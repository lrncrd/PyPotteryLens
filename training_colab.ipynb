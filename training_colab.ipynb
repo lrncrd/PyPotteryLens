{
 "cells": [
  {
   "cell_type": "markdown",
   "metadata": {},
   "source": [
    "# PyPotteryLens YOLO Training Notebook\n",
    "\n",
    "This notebook demonstrates how to train a YOLO (You Only Look Once) segmentation model for pottery detection and analysis. The model uses YOLOv8 architecture for object detection and instance segmentation on archaeological pottery images.\n",
    "\n",
    "## Overview\n",
    "- **Purpose**: Train a deep learning model to detect and segment pottery artifacts in images\n",
    "- **Architecture**: YOLOv8 with segmentation capabilities\n",
    "- **Framework**: Ultralytics YOLO implementation\n",
    "- **Environment**: Google Colab (with GPU acceleration recommended)\n",
    "\n",
    "## Prerequisites\n",
    "- Google Colab account with access to GPU runtime\n",
    "- Prepared dataset in YOLO format (images + annotations)\n",
    "- YAML configuration file defining dataset paths and classes"
   ]
  },
  {
   "cell_type": "code",
   "execution_count": null,
   "metadata": {
    "colab": {
     "base_uri": "https://localhost:8080/"
    },
    "executionInfo": {
     "elapsed": 19606,
     "status": "ok",
     "timestamp": 1744020207537,
     "user": {
      "displayName": "Lorenzo Cardarelli",
      "userId": "07010634211742654756"
     },
     "user_tz": -120
    },
    "id": "q0eB9jv7D4SW",
    "outputId": "b7f67845-b0de-4255-c134-7ba3e3107273"
   },
   "outputs": [],
   "source": [
    "from google.colab import drive\n",
    "drive.mount('/content/drive')"
   ]
  },
  {
   "cell_type": "markdown",
   "metadata": {},
   "source": [
    "## 1. Setup Environment\n",
    "\n",
    "### Mount Google Drive\n",
    "First, we need to mount Google Drive to access our dataset and save training results. This will prompt you to authenticate and grant access to your Google Drive."
   ]
  },
  {
   "cell_type": "code",
   "execution_count": null,
   "metadata": {
    "colab": {
     "base_uri": "https://localhost:8080/"
    },
    "executionInfo": {
     "elapsed": 91385,
     "status": "ok",
     "timestamp": 1744020298925,
     "user": {
      "displayName": "Lorenzo Cardarelli",
      "userId": "07010634211742654756"
     },
     "user_tz": -120
    },
    "id": "i5VPzaHADY2P",
    "outputId": "5fb675d7-02b2-47b7-b730-3d67c3a5f5ec"
   },
   "outputs": [],
   "source": [
    "!pip install ultralytics"
   ]
  },
  {
   "cell_type": "markdown",
   "metadata": {},
   "source": [
    "### Install Required Packages\n",
    "Install the Ultralytics package which provides the YOLOv8 implementation. This includes all necessary dependencies for training and inference."
   ]
  },
  {
   "cell_type": "code",
   "execution_count": null,
   "metadata": {
    "id": "liX25bQHDEf_"
   },
   "outputs": [],
   "source": [
    "from ultralytics import YOLO\n",
    "from matplotlib import pyplot as plt\n",
    "from PIL import Image"
   ]
  },
  {
   "cell_type": "markdown",
   "metadata": {},
   "source": [
    "### Import Libraries\n",
    "Import the necessary libraries for model training and visualization:\n",
    "- `YOLO`: Main class for loading and training YOLO models\n",
    "- `matplotlib.pyplot`: For plotting training results and visualizations\n",
    "- `PIL.Image`: For image processing and display"
   ]
  },
  {
   "cell_type": "code",
   "execution_count": null,
   "metadata": {
    "id": "NiPCzFpcMpgz"
   },
   "outputs": [],
   "source": [
    "from ultralytics import YOLO\n",
    "\n",
    "# Load a model\n",
    "model = YOLO(\"yolo8x-seg.yaml\")  # build a new model from YAML\n",
    "model = YOLO(\"yolo8x.pt\")  # load a pretrained model (recommended for training)\n",
    "#model = YOLO(\"yolo11m-seg.yaml\").load(\"yolo11m.pt\")  # build from YAML and transfer weights\n"
   ]
  },
  {
   "cell_type": "markdown",
   "metadata": {},
   "source": [
    "## 2. Model Initialization\n",
    "\n",
    "### Load Pre-trained YOLO Model\n",
    "We initialize a YOLOv8 model for segmentation. There are several options:\n",
    "\n",
    "1. **Build from YAML**: `YOLO(\"yolo8x-seg.yaml\")` - Creates a new model architecture\n",
    "2. **Load pre-trained weights**: `YOLO(\"yolo8x.pt\")` - **Recommended** for training as it provides a good starting point\n",
    "3. **Combine both**: Build from YAML and load pre-trained weights for transfer learning\n",
    "\n",
    "The `yolo8x.pt` model is the extra-large variant with the best accuracy, ideal for detailed pottery analysis."
   ]
  },
  {
   "cell_type": "code",
   "execution_count": null,
   "metadata": {
    "id": "IEBT1ONIDEgB"
   },
   "outputs": [],
   "source": [
    "# define number of classes based on YAML\n",
    "import yaml\n",
    "with open(\"PATH_TO_YAML\", 'r') as stream:\n",
    "    num_classes = str(yaml.safe_load(stream)['names'])"
   ]
  },
  {
   "cell_type": "markdown",
   "metadata": {},
   "source": [
    "## 3. Dataset Configuration\n",
    "\n",
    "### Load Dataset Information\n",
    "Read the YAML configuration file to understand the dataset structure and classes. The YAML file should contain:\n",
    "- `path`: Root directory of the dataset\n",
    "- `train`: Path to training images\n",
    "- `val`: Path to validation images  \n",
    "- `names`: Dictionary or list of class names\n",
    "\n",
    "**Note**: Replace `\"PATH_TO_YAML\"` with the actual path to your dataset configuration file (e.g., `\"/content/drive/MyDrive/pottery_dataset/data.yaml\"`)."
   ]
  },
  {
   "cell_type": "code",
   "execution_count": null,
   "metadata": {
    "colab": {
     "base_uri": "https://localhost:8080/",
     "height": 35
    },
    "executionInfo": {
     "elapsed": 8,
     "status": "ok",
     "timestamp": 1744020481474,
     "user": {
      "displayName": "Lorenzo Cardarelli",
      "userId": "07010634211742654756"
     },
     "user_tz": -120
    },
    "id": "73c9VJS_DEgB",
    "outputId": "0ef36d1f-11d3-45bb-df72-a8616c316ed8"
   },
   "outputs": [],
   "source": [
    "num_classes"
   ]
  },
  {
   "cell_type": "markdown",
   "metadata": {},
   "source": [
    "### Verify Dataset Classes\n",
    "Display the classes defined in your dataset to ensure they match your expectations."
   ]
  },
  {
   "cell_type": "code",
   "execution_count": null,
   "metadata": {
    "id": "9f-LkYWRDEgC"
   },
   "outputs": [],
   "source": [
    "#Define a project --> Destination directory for all results\n",
    "project = \"PATH_TO_PROJECT\"  # e.g., \"/content/drive/MyDrive/YOLO_12_200m_epochs-X\"\n",
    "#Define subdirectory for this specific training\n",
    "name = \"YOLO_8_200m_epochs\" #note that if you run the training again, it creates a directory: 200_epochs-2"
   ]
  },
  {
   "cell_type": "markdown",
   "metadata": {},
   "source": [
    "## 4. Training Configuration\n",
    "\n",
    "### Set Output Directories\n",
    "Configure where training results will be saved:\n",
    "- **project**: Main directory for all training experiments\n",
    "- **name**: Subdirectory for this specific training run\n",
    "\n",
    "**Important**: Replace `\"PATH_TO_PROJECT\"` with your actual project path (e.g., `\"/content/drive/MyDrive/pottery_experiments\"`).\n",
    "\n",
    "If you run training multiple times with the same name, YOLO automatically creates numbered subdirectories (e.g., `YOLO_8_200m_epochs-2`)."
   ]
  },
  {
   "cell_type": "code",
   "execution_count": null,
   "metadata": {
    "colab": {
     "base_uri": "https://localhost:8080/",
     "height": 1000
    },
    "executionInfo": {
     "elapsed": 131693,
     "status": "error",
     "timestamp": 1744020627656,
     "user": {
      "displayName": "Lorenzo Cardarelli",
      "userId": "07010634211742654756"
     },
     "user_tz": -120
    },
    "id": "3VE-8UhhDEgC",
    "outputId": "965ba5da-e2c4-47ab-8ecc-193816b3e816"
   },
   "outputs": [],
   "source": [
    "# Train the model\n",
    "results = model.train(data='PATH_TO_YAML',\n",
    "                      project=project,\n",
    "                      name=name,\n",
    "                      epochs=200, #200\n",
    "                      patience=10, #I am setting patience=0 to disable early stopping.\n",
    "                      batch=-1, #8\n",
    "                      imgsz=800, #800\n",
    "                      fliplr= 0.6,\n",
    "                      single_cls = True,\n",
    "                      mask_ratio = 1,\n",
    "                      )"
   ]
  },
  {
   "cell_type": "markdown",
   "metadata": {},
   "source": [
    "## 5. Model Training\n",
    "\n",
    "### Start Training Process\n",
    "Configure and start the YOLO model training with optimized parameters for pottery detection:\n",
    "\n",
    "#### Key Training Parameters:\n",
    "- **data**: Path to your YAML configuration file ⚠️ *Replace with actual path*\n",
    "- **epochs**: Number of training iterations (200 for thorough training)\n",
    "- **patience**: Early stopping patience (10 = stop if no improvement for 10 epochs)\n",
    "- **batch**: Batch size (-1 = auto-detect optimal size based on GPU memory)\n",
    "- **imgsz**: Input image size (800x800 pixels for detailed pottery features)\n",
    "- **fliplr**: Horizontal flip augmentation probability (0.6 = 60% chance)\n",
    "- **single_cls**: Treat all classes as one (True for general pottery detection)\n",
    "- **mask_ratio**: Ratio of mask loss to box loss (1 = equal weighting)\n",
    "\n",
    "#### Training Process:\n",
    "The training will automatically:\n",
    "1. Validate dataset structure\n",
    "2. Download pre-trained weights if needed\n",
    "3. Start training with progress tracking\n",
    "4. Save best weights and training metrics\n",
    "5. Generate training plots and validation results"
   ]
  },
  {
   "cell_type": "markdown",
   "metadata": {},
   "source": [
    "### Training Control\n",
    "Use this cell to manually stop training if needed. This is useful for debugging or if you need to interrupt the training process."
   ]
  },
  {
   "cell_type": "code",
   "execution_count": null,
   "metadata": {
    "id": "NBC-icp8t_db"
   },
   "outputs": [],
   "source": [
    "from ultralytics import YOLO\n",
    "model = YOLO('/content/drive/MyDrive/Schedinator/Pots/results/300m_epochs-/weights/best.pt')  # load a partially trained model\n",
    "results = model.train(resume=True)"
   ]
  },
  {
   "cell_type": "markdown",
   "metadata": {},
   "source": [
    "## 6. Resume Training (Optional)\n",
    "\n",
    "### Continue from Checkpoint\n",
    "If training was interrupted or you want to continue from a previously saved model, use this section to resume training.\n",
    "\n",
    "**Steps to resume:**\n",
    "1. Update the path to point to your `best.pt` or `last.pt` model file\n",
    "2. The `resume=True` parameter will continue from where training left off\n",
    "3. All previous training settings will be restored automatically\n",
    "\n",
    "**Example path format**: `/content/drive/MyDrive/YourProject/runs/segment/train/weights/best.pt`"
   ]
  }
 ],
 "metadata": {
  "accelerator": "GPU",
  "colab": {
   "gpuType": "T4",
   "machine_shape": "hm",
   "provenance": []
  },
  "kernelspec": {
   "display_name": "Python 3",
   "name": "python3"
  },
  "language_info": {
   "codemirror_mode": {
    "name": "ipython",
    "version": 3
   },
   "file_extension": ".py",
   "mimetype": "text/x-python",
   "name": "python",
   "nbconvert_exporter": "python",
   "pygments_lexer": "ipython3",
   "version": "3.9.18"
  }
 },
 "nbformat": 4,
 "nbformat_minor": 0
}
